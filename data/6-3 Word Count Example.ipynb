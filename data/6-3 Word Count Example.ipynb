{
 "cells": [
  {
   "cell_type": "markdown",
   "metadata": {},
   "source": [
    "# Second Jupyter Notebook - Word Count"
   ]
  },
  {
   "cell_type": "markdown",
   "metadata": {},
   "source": [
    "This is my second attempt at a Jupyter Notebook to demonstrate using markdown text and python code together as a way of sharing our work with instructions and tips. The following example does a word count of a text file and returns the most often used word and a count of how often it was used.\n",
    "\n",
    "The text files in the Data folder are: (Added in Module 4 / Chapter 6)\n",
    "* DoI.txt - US Declaration of Independence\n",
    "* BoR.txt - US Original Bill ofRights\n",
    "* Bor-Full.txt - US Bill of Rights with all Amendments\n",
    "* Gettysburg.txt - US President Lincoln's Gettysburg Address\n",
    "* MagnaCarta.txt - England 1215 (English translation)\n",
    "* Margaritaville.txt - Lyrics by Jimmy Buffett\n",
    "* UDHR.txt - UN The Universal Declaration of Human Rights\n",
    "* 95Theses.txt - Germany English translation of Martin Luther's “Disputation on the Power and Efficacy of Indulgences,” also known as “The 95 Theses,”\n",
    "\n",
    "\n",
    "Original files:\n",
    "* Romeo.txt\n",
    "* Romeo-full.txt\n",
    "* Mbox.txt\n",
    "* Mbox-short.txt\n",
    "\n",
    "To run the code:\n",
    "\n",
    "1. Click in the code cell below.\n",
    "2. Use the Cell | Run Cells from the menu or press [Shift]+[Enter].\n",
    "3. Type data\\filename.txt when prompted.\n",
    "\n",
    "Try it with several of the files."
   ]
  },
  {
   "cell_type": "code",
   "execution_count": 4,
   "metadata": {},
   "outputs": [
    {
     "name": "stdout",
     "output_type": "stream",
     "text": [
      "Enter file: data\\Romeo.txt\n"
     ]
    },
    {
     "ename": "FileNotFoundError",
     "evalue": "[Errno 2] No such file or directory: 'data\\\\Romeo.txt'",
     "output_type": "error",
     "traceback": [
      "\u001b[1;31m---------------------------------------------------------------------------\u001b[0m",
      "\u001b[1;31mFileNotFoundError\u001b[0m                         Traceback (most recent call last)",
      "\u001b[1;32m<ipython-input-4-45cc7f246072>\u001b[0m in \u001b[0;36m<module>\u001b[1;34m()\u001b[0m\n\u001b[0;32m      1\u001b[0m \u001b[0mname\u001b[0m \u001b[1;33m=\u001b[0m \u001b[0minput\u001b[0m\u001b[1;33m(\u001b[0m\u001b[1;34m'Enter file: '\u001b[0m\u001b[1;33m)\u001b[0m\u001b[1;33m\u001b[0m\u001b[0m\n\u001b[1;32m----> 2\u001b[1;33m \u001b[0mhandle\u001b[0m \u001b[1;33m=\u001b[0m \u001b[0mopen\u001b[0m\u001b[1;33m(\u001b[0m\u001b[0mname\u001b[0m\u001b[1;33m,\u001b[0m \u001b[1;34m'r'\u001b[0m\u001b[1;33m)\u001b[0m\u001b[1;33m\u001b[0m\u001b[0m\n\u001b[0m\u001b[0;32m      3\u001b[0m \u001b[0mtext\u001b[0m \u001b[1;33m=\u001b[0m \u001b[0mhandle\u001b[0m\u001b[1;33m.\u001b[0m\u001b[0mread\u001b[0m\u001b[1;33m(\u001b[0m\u001b[1;33m)\u001b[0m\u001b[1;33m\u001b[0m\u001b[0m\n\u001b[0;32m      4\u001b[0m \u001b[0mwords\u001b[0m \u001b[1;33m=\u001b[0m \u001b[0mtext\u001b[0m\u001b[1;33m.\u001b[0m\u001b[0msplit\u001b[0m\u001b[1;33m(\u001b[0m\u001b[1;33m)\u001b[0m\u001b[1;33m\u001b[0m\u001b[0m\n\u001b[0;32m      5\u001b[0m \u001b[0mcounts\u001b[0m \u001b[1;33m=\u001b[0m \u001b[0mdict\u001b[0m\u001b[1;33m(\u001b[0m\u001b[1;33m)\u001b[0m\u001b[1;33m\u001b[0m\u001b[0m\n",
      "\u001b[1;31mFileNotFoundError\u001b[0m: [Errno 2] No such file or directory: 'data\\\\Romeo.txt'"
     ]
    }
   ],
   "source": [
    "name = input('Enter file: ')\n",
    "handle = open(name, 'r')\n",
    "text = handle.read()\n",
    "words = text.split()\n",
    "counts = dict()\n",
    "\n",
    "for word in words:\n",
    "   counts[word] = counts.get(word,0) + 1\n",
    "\n",
    "bigcount = None\n",
    "bigword = None\n",
    "for word,count in counts.items():\n",
    "    if bigcount is None or count > bigcount:\n",
    "        bigword = word\n",
    "        bigcount = count\n",
    "\n",
    "print(bigword, bigcount)"
   ]
  },
  {
   "cell_type": "markdown",
   "metadata": {},
   "source": [
    "![Cat Pic](http://faculty.washington.edu/blabob/bob/pics/GAs_01.jpg)"
   ]
  }
 ],
 "metadata": {
  "kernelspec": {
   "display_name": "Python 3",
   "language": "python",
   "name": "python3"
  },
  "language_info": {
   "codemirror_mode": {
    "name": "ipython",
    "version": 3
   },
   "file_extension": ".py",
   "mimetype": "text/x-python",
   "name": "python",
   "nbconvert_exporter": "python",
   "pygments_lexer": "ipython3",
   "version": "3.6.3"
  }
 },
 "nbformat": 4,
 "nbformat_minor": 2
}
